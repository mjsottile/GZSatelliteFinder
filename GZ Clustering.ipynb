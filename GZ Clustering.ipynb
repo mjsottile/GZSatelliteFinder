{
 "metadata": {
  "name": ""
 },
 "nbformat": 3,
 "nbformat_minor": 0,
 "worksheets": [
  {
   "cells": [
    {
     "cell_type": "code",
     "collapsed": false,
     "input": [
      "from sklearn.cluster import AffinityPropagation\n",
      "from sklearn import metrics\n",
      "import os\n",
      "import csv\n",
      "import numpy as np"
     ],
     "language": "python",
     "metadata": {},
     "outputs": [],
     "prompt_number": 17
    },
    {
     "cell_type": "code",
     "collapsed": false,
     "input": [
      "def readone(fname):\n",
      "    f = open(fname,'r')\n",
      "    dat = csv.reader(f)\n",
      "    for l in dat:\n",
      "        return l[0],map(float,l[1:])"
     ],
     "language": "python",
     "metadata": {},
     "outputs": [],
     "prompt_number": 18
    },
    {
     "cell_type": "code",
     "collapsed": false,
     "input": [
      "path = 'measurements/'\n",
      "listing = os.listdir(path)\n",
      "data = []\n",
      "labels = []\n",
      "for infile in listing:\n",
      "    lbl,dat = readone(\"measurements/\"+infile)\n",
      "    labels.append(lbl)\n",
      "    data.append(dat)\n",
      "x = np.array(data)"
     ],
     "language": "python",
     "metadata": {},
     "outputs": [],
     "prompt_number": 19
    },
    {
     "cell_type": "code",
     "collapsed": false,
     "input": [
      "af=AffinityPropagation().fit(x)\n",
      "af.labels_"
     ],
     "language": "python",
     "metadata": {},
     "outputs": [
      {
       "metadata": {},
       "output_type": "pyout",
       "prompt_number": 20,
       "text": [
        "array([7, 7, 0, 7, 7, 7, 0, 0, 0, 0, 7, 0, 9, 1, 5, 1, 1, 0, 0, 1, 1, 1, 1,\n",
        "       1, 1, 1, 1, 1, 1, 9, 0, 7, 0, 2, 0, 3, 7, 2, 7, 4, 2, 9, 9, 7, 7, 5,\n",
        "       9, 5, 9, 5, 6, 9, 1, 7, 7, 0, 0, 7, 7, 0, 9, 8, 8, 5, 7, 9, 7, 6], dtype=int64)"
       ]
      }
     ],
     "prompt_number": 20
    },
    {
     "cell_type": "code",
     "collapsed": false,
     "input": [
      "f = open(\"foo.html\",'w')\n",
      "for i in range(0,max(af.labels_)+1):\n",
      "    f.write(\"<H1>\"+str(i)+\"</H1>\\n\")\n",
      "    for j in range(0,len(labels)):\n",
      "        if af.labels_[j] == i:\n",
      "            f.write(\"<IMG TEXT=\\\"\"+labels[j]+\"\\\" SRC=\\\"images/\"+labels[j]+\".jpg\\\">\\n\")\n",
      "    f.write(\"<P>\\n\")\n",
      "f.close()"
     ],
     "language": "python",
     "metadata": {},
     "outputs": [],
     "prompt_number": 21
    },
    {
     "cell_type": "code",
     "collapsed": false,
     "input": [
      "af.get_params"
     ],
     "language": "python",
     "metadata": {},
     "outputs": [
      {
       "metadata": {},
       "output_type": "pyout",
       "prompt_number": 66,
       "text": [
        "<bound method AffinityPropagation.get_params of AffinityPropagation(affinity='euclidean', convergence_iter=15, copy=True,\n",
        "          damping=0.5, max_iter=200, preference=None, verbose=False)>"
       ]
      }
     ],
     "prompt_number": 66
    },
    {
     "cell_type": "code",
     "collapsed": false,
     "input": [],
     "language": "python",
     "metadata": {},
     "outputs": []
    }
   ],
   "metadata": {}
  }
 ]
}