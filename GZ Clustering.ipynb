{
 "metadata": {
  "name": ""
 },
 "nbformat": 3,
 "nbformat_minor": 0,
 "worksheets": [
  {
   "cells": [
    {
     "cell_type": "code",
     "collapsed": false,
     "input": [
      "from sklearn import metrics, cluster\n",
      "from sklearn.preprocessing import StandardScaler\n",
      "import os\n",
      "import csv\n",
      "import numpy as np"
     ],
     "language": "python",
     "metadata": {},
     "outputs": [],
     "prompt_number": 1
    },
    {
     "cell_type": "code",
     "collapsed": false,
     "input": [
      "def readone(fname):\n",
      "    f = open(fname,'r')\n",
      "    dat = csv.reader(f)\n",
      "    rows = []\n",
      "    img_name = 0\n",
      "    for l in dat:\n",
      "        img_name = l[0]\n",
      "        rows.append(map(float,l[1:]))\n",
      "    if len(rows) == 0:\n",
      "        return None\n",
      "    \n",
      "    return (img_name, rows)"
     ],
     "language": "python",
     "metadata": {},
     "outputs": [],
     "prompt_number": 2
    },
    {
     "cell_type": "code",
     "collapsed": false,
     "input": [
      "path = 'measurements/'\n",
      "listing = os.listdir(path)\n",
      "data = []\n",
      "labels = []\n",
      "for infile in listing:\n",
      "    d = readone(\"measurements/\"+infile)\n",
      "    if not (d == None):\n",
      "        lbl,dat = d\n",
      "        for i in range(len(dat)):\n",
      "            labels.append(lbl)\n",
      "        data.extend(dat)\n",
      "x = np.array(data)\n",
      "np.savetxt('data.dat',x,delimiter=',')"
     ],
     "language": "python",
     "metadata": {},
     "outputs": [],
     "prompt_number": 3
    },
    {
     "cell_type": "code",
     "collapsed": false,
     "input": [
      "num_comp = 4\n",
      "fvec = np.empty([len(x),6+(num_comp*3)])\n",
      "for i in range(0,len(x)):\n",
      "    line = x[i,6:]\n",
      "    rline = sort(abs(diff(line[0:300])))\n",
      "    gline = sort(abs(diff(line[300:600])))\n",
      "    bline = sort(abs(diff(line[600:900])))\n",
      "    \n",
      "    fvec[i,0:num_comp] = rline[-num_comp:]\n",
      "    fvec[i,num_comp:(2*num_comp)] = gline[-num_comp:]\n",
      "    fvec[i,(2*num_comp):(3*num_comp)] = bline[-num_comp:]\n",
      "    fvec[i,(3*num_comp):] = x[i,0:6]"
     ],
     "language": "python",
     "metadata": {},
     "outputs": [],
     "prompt_number": 4
    },
    {
     "cell_type": "code",
     "collapsed": false,
     "input": [
      "km=cluster.KMeans(n_clusters=15)\n",
      "km.fit(fvec)\n",
      "km.labels_"
     ],
     "language": "python",
     "metadata": {},
     "outputs": [
      {
       "metadata": {},
       "output_type": "pyout",
       "prompt_number": 5,
       "text": [
        "array([1, 1, 1, ..., 3, 3, 6])"
       ]
      }
     ],
     "prompt_number": 5
    },
    {
     "cell_type": "code",
     "collapsed": false,
     "input": [
      "af=cluster.AffinityPropagation(damping=0.9).fit(fvec)\n",
      "af.labels_"
     ],
     "language": "python",
     "metadata": {},
     "outputs": [
      {
       "metadata": {},
       "output_type": "pyout",
       "prompt_number": 12,
       "text": [
        "array([51, 36, 35, ..., 18, 18, 34], dtype=int64)"
       ]
      }
     ],
     "prompt_number": 12
    },
    {
     "cell_type": "code",
     "collapsed": false,
     "input": [
      "s_x=StandardScaler().fit_transform(x)\n",
      "db=cluster.DBSCAN(eps=0.1).fit(s_x)\n",
      "db.labels_"
     ],
     "language": "python",
     "metadata": {},
     "outputs": [
      {
       "metadata": {},
       "output_type": "pyout",
       "prompt_number": 7,
       "text": [
        "array([-1., -1., -1., ..., -1., -1., -1.])"
       ]
      }
     ],
     "prompt_number": 7
    },
    {
     "cell_type": "code",
     "collapsed": false,
     "input": [
      "wd=cluster.Ward(n_clusters=5).fit(x)\n",
      "wd.labels_"
     ],
     "language": "python",
     "metadata": {},
     "outputs": [
      {
       "metadata": {},
       "output_type": "pyout",
       "prompt_number": 8,
       "text": [
        "array([3, 3, 3, ..., 0, 0, 3], dtype=int64)"
       ]
      }
     ],
     "prompt_number": 8
    },
    {
     "cell_type": "code",
     "collapsed": false,
     "input": [
      "the_labels = km.labels_\n",
      "f = open(\"foo_km.html\",'w')\n",
      "for i in range(0,max(the_labels)+1):\n",
      "    f.write(\"<H1>\"+str(i)+\"</H1>\\n\")\n",
      "    for j in range(0,len(labels)):\n",
      "        if the_labels[j] == i:\n",
      "            f.write(\"<IMG TEXT=\\\"\"+labels[j]+\"\\\" SRC=\\\"images/\"+labels[j]+\".jpg\\\" WIDTH=80>\\n\")\n",
      "    f.write(\"<P>\\n\")\n",
      "f.close()"
     ],
     "language": "python",
     "metadata": {},
     "outputs": [],
     "prompt_number": 9
    },
    {
     "cell_type": "code",
     "collapsed": false,
     "input": [
      "the_labels = wd.labels_\n",
      "f = open(\"foo_wd.html\",'w')\n",
      "for i in range(0,max(the_labels)+1):\n",
      "    f.write(\"<H1>\"+str(i)+\"</H1>\\n\")\n",
      "    for j in range(0,len(labels)):\n",
      "        if the_labels[j] == i:\n",
      "            f.write(\"<IMG TEXT=\\\"\"+labels[j]+\"\\\" SRC=\\\"images/\"+labels[j]+\".jpg\\\" WIDTH=80>\\n\")\n",
      "    f.write(\"<P>\\n\")\n",
      "f.close()"
     ],
     "language": "python",
     "metadata": {},
     "outputs": [],
     "prompt_number": 10
    },
    {
     "cell_type": "code",
     "collapsed": false,
     "input": [
      "the_labels = af.labels_\n",
      "f = open(\"foo_af.html\",'w')\n",
      "for i in range(0,max(the_labels)+1):\n",
      "    f.write(\"<H1>\"+str(i)+\"</H1>\\n\")\n",
      "    for j in range(0,len(labels)):\n",
      "        if the_labels[j] == i:\n",
      "            f.write(\"<IMG TEXT=\\\"\"+labels[j]+\"\\\" SRC=\\\"images/\"+labels[j]+\".jpg\\\" WIDTH=80>\\n\")\n",
      "    f.write(\"<P>\\n\")\n",
      "f.close()"
     ],
     "language": "python",
     "metadata": {},
     "outputs": [],
     "prompt_number": 13
    },
    {
     "cell_type": "code",
     "collapsed": false,
     "input": [],
     "language": "python",
     "metadata": {},
     "outputs": []
    }
   ],
   "metadata": {}
  }
 ]
}