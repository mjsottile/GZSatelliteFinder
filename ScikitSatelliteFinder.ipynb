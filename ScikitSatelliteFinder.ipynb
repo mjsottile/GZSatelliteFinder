{
 "metadata": {
  "name": "ScikitSatelliteFinder"
 },
 "nbformat": 3,
 "nbformat_minor": 0,
 "worksheets": [
  {
   "cells": [
    {
     "cell_type": "markdown",
     "metadata": {},
     "source": [
      "Code to distinguish images with satellite tracks from others via simple heuristic on the result of applying the Hough transform.  Uses skimage for Hough transform code."
     ]
    },
    {
     "cell_type": "code",
     "collapsed": false,
     "input": [
      "from skimage.transform import (hough_line, hough_peaks,\n",
      "                               probabilistic_hough)\n",
      "from skimage.filter import canny\n",
      "from skimage import data\n",
      "import numpy as np\n",
      "import matplotlib.pyplot as plt\n",
      "import scipy.ndimage as I"
     ],
     "language": "python",
     "metadata": {},
     "outputs": [],
     "prompt_number": 1
    },
    {
     "cell_type": "code",
     "collapsed": false,
     "input": [
      "# borrowed code: http://nabinsharma.wordpress.com/2012/12/26/linear-hough-transform-using-python/\n",
      "def rgb2gray(img_array):\n",
      "  # bail if already gray\n",
      "  if img_array.shape[2] < 3:\n",
      "        return img_array\n",
      "  img_gray_array = np.zeros((img_array.shape[0], img_array.shape[1]), dtype=np.float32)\n",
      "  img_gray_array = 0.2989*img_array[:,:,0] + 0.5870*img_array[:,:,1] + 0.1140*img_array[:,:,2]\n",
      "  return img_gray_array"
     ],
     "language": "python",
     "metadata": {},
     "outputs": [],
     "prompt_number": 2
    },
    {
     "cell_type": "code",
     "collapsed": false,
     "input": [
      "# found code: http://pastebin.com/yyf6efXs\n",
      "def kl(p, q):\n",
      "    \"\"\"Kullback-Leibler divergence D(P || Q) for discrete distributions\n",
      " \n",
      "    Parameters\n",
      "    ----------\n",
      "    p, q : array-like, dtype=float, shape=n\n",
      "        Discrete probability distributions.\n",
      "    \"\"\"\n",
      "    p = np.asarray(p, dtype=np.float)\n",
      "    q = np.asarray(q, dtype=np.float)\n",
      " \n",
      "    return np.sum(np.where(p != 0, p * np.log(p / q), 0))"
     ],
     "language": "python",
     "metadata": {},
     "outputs": [],
     "prompt_number": 3
    },
    {
     "cell_type": "code",
     "collapsed": false,
     "input": [
      "def is_it_a_trail(im, thresh=145, bins=51, doplot=False):\n",
      "    \"\"\"Score an image on how likely it is to contain a satellite trail.\n",
      "\n",
      "    The score is formed from:\n",
      "      - the sum of differences between the mean of each pair of channels (RG/RB/GB)\n",
      "      - the sum of differences in the std. dev. of each pair of channels (RG/RB/GB)\n",
      "      - the largest KL divergence measure of any pair of channels (RG/RB/GB)\n",
      "\n",
      "    Parameters:\n",
      "    im : color image\n",
      "    thresh : threshold for clipping the greyscale version of the image for\n",
      "             performing the Hough transform\n",
      "    bins : number of histogram bins used when generating the intensity distributions\n",
      "           used in the KL-divergence computation.\n",
      "    doPlot : boolean to control whether or not a plot is generated\n",
      "\n",
      "    \"\"\"\n",
      "    \n",
      "    gim = rgb2gray(im)\n",
      "    max_val = amax(im)\n",
      "    h, theta, d = hough_line(rgb2gray(im)>thresh)\n",
      "    rows, cols = gim.shape\n",
      "    \n",
      "    largest_kl_dist = 0.0\n",
      "    least_mean_sim = 3.0\n",
      "    least_std_sim = 3.0\n",
      "    \n",
      "    numhits = 0\n",
      "    \n",
      "    for _, angle, dist in zip(*hough_peaks(h, theta, d)):\n",
      "        numhits = numhits+1\n",
      "        xs = arange(0,cols-1)\n",
      "        ys = (dist - xs*np.cos(angle))/np.sin(angle)\n",
      "        mask = (ys >= 0) & (ys < rows)\n",
      "        xs_mask = xs[mask]\n",
      "        ys_mask = np.floor(ys[mask])\n",
      "\n",
      "        # split image into channels\n",
      "        rchan = im[:,:,0]\n",
      "        gchan = im[:,:,1]\n",
      "        bchan = im[:,:,2]\n",
      "        \n",
      "        # color channels along line\n",
      "        red_pixels = rchan[ys_mask.astype(int), xs_mask.astype(int)]\n",
      "        green_pixels = gchan[ys_mask.astype(int), xs_mask.astype(int)]\n",
      "        blue_pixels = bchan[ys_mask.astype(int), xs_mask.astype(int)]\n",
      "        \n",
      "        # basic statistics about each channel\n",
      "        rextent = red_pixels.max() - red_pixels.min()\n",
      "        rmean = np.mean(red_pixels)\n",
      "        rstd = np.std(red_pixels)\n",
      "        gextent = green_pixels.max() - green_pixels.min()\n",
      "        gmean = np.mean(green_pixels)\n",
      "        gstd = np.std(green_pixels)\n",
      "        bextent = blue_pixels.max() - blue_pixels.min()\n",
      "        bmean = np.mean(blue_pixels)\n",
      "        bstd = np.std(blue_pixels)\n",
      "\n",
      "        # similarity based on bulk statistics.  limit of 3 for high similarity, zero for very low similarity\n",
      "        tot_diff_std = 1.0/abs(rstd-gstd) + 1.0/abs(rstd-bstd) + 1.0/abs(gstd-bstd)\n",
      "        tot_diff_mean = 1.0/abs(rmean-gmean) + 1.0/abs(rmean-bmean) + 1.0/abs(gmean-bmean)\n",
      "        \n",
      "        if least_mean_sim>tot_diff_mean:\n",
      "            least_mean_sim = tot_diff_mean\n",
      "        if least_std_sim>tot_diff_std:\n",
      "            least_std_sim = tot_diff_std\n",
      "        \n",
      "        # generate bin boundaries for histogramming\n",
      "        bin_vals = arange(0,bins+2.0)*(max_val / bins)\n",
      "        \n",
      "        # compute histograms\n",
      "        rhist,junk = histogram(red_pixels, bins=bin_vals)\n",
      "        ghist,junk = histogram(green_pixels, bins=bin_vals)\n",
      "        bhist,junk = histogram(blue_pixels, bins=bin_vals)\n",
      "        \n",
      "        # compute KL dist between channels.  +1 to avoid div-by-zero and\n",
      "        # subsequent inf\n",
      "        ks = [kl(rhist+1,ghist+1), kl(rhist+1,bhist+1),\n",
      "              kl(ghist+1,bhist+1)]\n",
      "\n",
      "        ### TODO: better method for distinguishing differences in histograms\n",
      "        \n",
      "        # biggest difference in KL divergence difference\n",
      "        kl_dist = max(ks)-min(ks)\n",
      "        if largest_kl_dist < kl_dist:\n",
      "            largest_kl_dist = kl_dist\n",
      "        \n",
      "        if doplot:\n",
      "            plt.plot(red_pixels,'r')\n",
      "            plt.plot(green_pixels,'g')\n",
      "            plt.plot(blue_pixels,'b')\n",
      "\n",
      "    # determine if we are close or not.  must have at least a two order\n",
      "    # of magnitude difference in the largest KL_Dist, and must have one\n",
      "    # detected line\n",
      "#    if (largest_kl_dist > 0 and log(largest_kl_dist) > 2) and (numhits == 1):\n",
      "#        print (np.mean(red_pixels), np.std(red_pixels))\n",
      "#        print (np.mean(green_pixels), np.std(green_pixels))\n",
      "#        print (np.mean(blue_pixels), np.std(blue_pixels))\n",
      "#        print \"Probably a satellite.\"\n",
      "#    else:\n",
      "#        print \"Probably not a satellite.\"\n",
      "    return (numhits, largest_kl_dist, least_mean_sim, least_std_sim, max([rextent,gextent,bextent]))"
     ],
     "language": "python",
     "metadata": {},
     "outputs": [],
     "prompt_number": 4
    },
    {
     "cell_type": "code",
     "collapsed": false,
     "input": [
      "def show_with_line(im, thresh=145):\n",
      "    gim=rgb2gray(im)\n",
      "    h, theta, d = hough_line(gim>thresh)\n",
      "    plt.imshow(gim, cmap=plt.cm.gray)\n",
      "    rows, cols = gim.shape\n",
      "    for _, angle, dist in zip(*hough_peaks(h, theta, d)):\n",
      "        y0 = (dist - 0 * np.cos(angle)) / np.sin(angle)\n",
      "        y1 = (dist - cols * np.cos(angle)) / np.sin(angle)\n",
      "        plt.plot((0, cols), (y0, y1), '-r')\n",
      "    plt.axis((0, cols, rows, 0))\n",
      "    plt.title('Detected lines')"
     ],
     "language": "python",
     "metadata": {},
     "outputs": [],
     "prompt_number": 5
    },
    {
     "cell_type": "code",
     "collapsed": false,
     "input": [
      "def do_all_files(filelist):\n",
      "    dists = []\n",
      "    with open(filelist) as f:\n",
      "        for line in f:\n",
      "            im = I.imread(line[:-1])\n",
      "            dists.append(is_it_a_trail(im,thresh=50))\n",
      "    return dists"
     ],
     "language": "python",
     "metadata": {},
     "outputs": [],
     "prompt_number": 6
    },
    {
     "cell_type": "code",
     "collapsed": false,
     "input": [
      "def get_filenames(filelist):\n",
      "    fnames = []\n",
      "    with open(filelist) as f:\n",
      "        for line in f:\n",
      "            fnames.append(line[:-1])\n",
      "    return fnames"
     ],
     "language": "python",
     "metadata": {},
     "outputs": [],
     "prompt_number": 7
    },
    {
     "cell_type": "code",
     "collapsed": false,
     "input": [
      "dists = do_all_files(\"all_images.txt\")"
     ],
     "language": "python",
     "metadata": {},
     "outputs": [
      {
       "output_type": "stream",
       "stream": "stderr",
       "text": [
        "-c:61: RuntimeWarning: divide by zero encountered in double_scalars\n",
        "-c:60: RuntimeWarning: divide by zero encountered in double_scalars\n"
       ]
      }
     ],
     "prompt_number": 8
    },
    {
     "cell_type": "code",
     "collapsed": false,
     "input": [
      "def look_for_hits(d,fnames):\n",
      "    n = len(d)\n",
      "    vals = np.zeros(n)\n",
      "    idx = 0\n",
      "    for x in d:\n",
      "        vals[idx] = (x[1]*((x[2]/3.0) + (x[3]/3.0))/2.0)/log(x[4])\n",
      "        if vals[idx] > 100:\n",
      "            print fnames[idx]\n",
      "        idx = idx+1\n",
      "    plt.plot(vals)"
     ],
     "language": "python",
     "metadata": {},
     "outputs": [],
     "prompt_number": 30
    },
    {
     "cell_type": "code",
     "collapsed": false,
     "input": [
      "fnames = get_filenames(\"all_images.txt\")"
     ],
     "language": "python",
     "metadata": {},
     "outputs": [],
     "prompt_number": 31
    },
    {
     "cell_type": "code",
     "collapsed": false,
     "input": [
      "look_for_hits(dists,fnames)"
     ],
     "language": "python",
     "metadata": {},
     "outputs": [
      {
       "output_type": "stream",
       "stream": "stdout",
       "text": [
        "1237667735033479186.jpg\n",
        "test2.jpg\n",
        "test.jpg\n"
       ]
      },
      {
       "output_type": "display_data",
       "png": "[encoded data removed]"
      }
     ],
     "prompt_number": 32
    },
    {
     "cell_type": "code",
     "collapsed": false,
     "input": [],
     "language": "python",
     "metadata": {},
     "outputs": []
    }
   ],
   "metadata": {}
  }
 ]
}